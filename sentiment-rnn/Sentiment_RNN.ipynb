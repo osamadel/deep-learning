{
 "cells": [
  {
   "cell_type": "markdown",
   "metadata": {},
   "source": [
    "# Sentiment Analysis with an RNN\n",
    "\n",
    "In this notebook, you'll implement a recurrent neural network that performs sentiment analysis. Using an RNN rather than a feedfoward network is more accurate since we can include information about the *sequence* of words. Here we'll use a dataset of movie reviews, accompanied by labels.\n",
    "\n",
    "The architecture for this network is shown below.\n",
    "\n",
    "<img src=\"assets/network_diagram.png\" width=400px>\n",
    "\n",
    "Here, we'll pass in words to an embedding layer. We need an embedding layer because we have tens of thousands of words, so we'll need a more efficient representation for our input data than one-hot encoded vectors. You should have seen this before from the word2vec lesson. You can actually train up an embedding with word2vec and use it here. But it's good enough to just have an embedding layer and let the network learn the embedding table on it's own.\n",
    "\n",
    "From the embedding layer, the new representations will be passed to LSTM cells. These will add recurrent connections to the network so we can include information about the sequence of words in the data. Finally, the LSTM cells will go to a sigmoid output layer here. We're using the sigmoid because we're trying to predict if this text has positive or negative sentiment. The output layer will just be a single unit then, with a sigmoid activation function.\n",
    "\n",
    "We don't care about the sigmoid outputs except for the very last one, we can ignore the rest. We'll calculate the cost from the output of the last step and the training label."
   ]
  },
  {
   "cell_type": "code",
   "execution_count": 1,
   "metadata": {},
   "outputs": [],
   "source": [
    "import numpy as np\n",
    "import tensorflow as tf"
   ]
  },
  {
   "cell_type": "code",
   "execution_count": 2,
   "metadata": {},
   "outputs": [],
   "source": [
    "with open('../sentiment-network/reviews.txt', 'r') as f:\n",
    "    reviews = f.read()\n",
    "with open('../sentiment-network/labels.txt', 'r') as f:\n",
    "    labels = f.read()"
   ]
  },
  {
   "cell_type": "code",
   "execution_count": 3,
   "metadata": {},
   "outputs": [
    {
     "data": {
      "text/plain": [
       "'bromwell high is a cartoon comedy . it ran at the same time as some other programs about school life  such as  teachers  . my   years in the teaching profession lead me to believe that bromwell high  s satire is much closer to reality than is  teachers  . the scramble to survive financially  the insightful students who can see right through their pathetic teachers  pomp  the pettiness of the whole situation  all remind me of the schools i knew and their students . when i saw the episode in which a student repeatedly tried to burn down the school  i immediately recalled . . . . . . . . . at . . . . . . . . . . high . a classic line inspector i  m here to sack one of your teachers . student welcome to bromwell high . i expect that many adults of my age think that bromwell high is far fetched . what a pity that it isn  t   \\nstory of a man who has unnatural feelings for a pig . starts out with a opening scene that is a terrific example of absurd comedy . a formal orchestra audience is turned into an insane  violent mob by the crazy chantings of it  s singers . unfortunately it stays absurd the whole time with no general narrative eventually making it just too off putting . even those from the era should be turned off . the cryptic dialogue would make shakespeare seem easy to a third grader . on a technical level it  s better than you might think with some good cinematography by future great vilmos zsigmond . future stars sally kirkland and frederic forrest can be seen briefly .  \\nhomelessness  or houselessness as george carlin stated  has been an issue for years but never a plan to help those on the street that were once considered human who did everything from going to school  work  or vote for the matter . most people think of the homeless as just a lost cause while worrying about things such as racism  the war on iraq  pressuring kids to succeed  technology  the elections  inflation  or worrying if they  ll be next to end up on the streets .  br    br   but what if y'"
      ]
     },
     "execution_count": 3,
     "metadata": {},
     "output_type": "execute_result"
    }
   ],
   "source": [
    "reviews[:2000]"
   ]
  },
  {
   "cell_type": "markdown",
   "metadata": {},
   "source": [
    "## Data preprocessing\n",
    "\n",
    "The first step when building a neural network model is getting your data into the proper form to feed into the network. Since we're using embedding layers, we'll need to encode each word with an integer. We'll also want to clean it up a bit.\n",
    "\n",
    "You can see an example of the reviews data above. We'll want to get rid of those periods. Also, you might notice that the reviews are delimited with newlines `\\n`. To deal with those, I'm going to split the text into each review using `\\n` as the delimiter. Then I can combined all the reviews back together into one big string.\n",
    "\n",
    "First, let's remove all punctuation. Then get all the text without the newlines and split it into individual words."
   ]
  },
  {
   "cell_type": "code",
   "execution_count": 4,
   "metadata": {},
   "outputs": [],
   "source": [
    "from string import punctuation\n",
    "all_text = ''.join([c for c in reviews if c not in punctuation])\n",
    "reviews = all_text.split('\\n')\n",
    "\n",
    "all_text = ' '.join(reviews)\n",
    "words = all_text.split()"
   ]
  },
  {
   "cell_type": "code",
   "execution_count": 5,
   "metadata": {},
   "outputs": [
    {
     "data": {
      "text/plain": [
       "['bromwell high is a cartoon comedy  it ran at the same time as some other programs about school life  such as  teachers   my   years in the teaching profession lead me to believe that bromwell high  s satire is much closer to reality than is  teachers   the scramble to survive financially  the insightful students who can see right through their pathetic teachers  pomp  the pettiness of the whole situation  all remind me of the schools i knew and their students  when i saw the episode in which a student repeatedly tried to burn down the school  i immediately recalled          at           high  a classic line inspector i  m here to sack one of your teachers  student welcome to bromwell high  i expect that many adults of my age think that bromwell high is far fetched  what a pity that it isn  t   ',\n",
       " 'story of a man who has unnatural feelings for a pig  starts out with a opening scene that is a terrific example of absurd comedy  a formal orchestra audience is turned into an insane  violent mob by the crazy chantings of it  s singers  unfortunately it stays absurd the whole time with no general narrative eventually making it just too off putting  even those from the era should be turned off  the cryptic dialogue would make shakespeare seem easy to a third grader  on a technical level it  s better than you might think with some good cinematography by future great vilmos zsigmond  future stars sally kirkland and frederic forrest can be seen briefly   ']"
      ]
     },
     "execution_count": 5,
     "metadata": {},
     "output_type": "execute_result"
    }
   ],
   "source": [
    "reviews[:2]"
   ]
  },
  {
   "cell_type": "code",
   "execution_count": 6,
   "metadata": {},
   "outputs": [
    {
     "data": {
      "text/plain": [
       "'bromwell high is a cartoon comedy  it ran at the same time as some other programs about school life  such as  teachers   my   years in the teaching profession lead me to believe that bromwell high  s satire is much closer to reality than is  teachers   the scramble to survive financially  the insightful students who can see right through their pathetic teachers  pomp  the pettiness of the whole situation  all remind me of the schools i knew and their students  when i saw the episode in which a student repeatedly tried to burn down the school  i immediately recalled          at           high  a classic line inspector i  m here to sack one of your teachers  student welcome to bromwell high  i expect that many adults of my age think that bromwell high is far fetched  what a pity that it isn  t    story of a man who has unnatural feelings for a pig  starts out with a opening scene that is a terrific example of absurd comedy  a formal orchestra audience is turned into an insane  violent mob by the crazy chantings of it  s singers  unfortunately it stays absurd the whole time with no general narrative eventually making it just too off putting  even those from the era should be turned off  the cryptic dialogue would make shakespeare seem easy to a third grader  on a technical level it  s better than you might think with some good cinematography by future great vilmos zsigmond  future stars sally kirkland and frederic forrest can be seen briefly    homelessness  or houselessness as george carlin stated  has been an issue for years but never a plan to help those on the street that were once considered human who did everything from going to school  work  or vote for the matter  most people think of the homeless as just a lost cause while worrying about things such as racism  the war on iraq  pressuring kids to succeed  technology  the elections  inflation  or worrying if they  ll be next to end up on the streets   br    br   but what if you were given a bet to live on the st'"
      ]
     },
     "execution_count": 6,
     "metadata": {},
     "output_type": "execute_result"
    }
   ],
   "source": [
    "all_text[:2000]"
   ]
  },
  {
   "cell_type": "code",
   "execution_count": 7,
   "metadata": {},
   "outputs": [
    {
     "data": {
      "text/plain": [
       "['bromwell',\n",
       " 'high',\n",
       " 'is',\n",
       " 'a',\n",
       " 'cartoon',\n",
       " 'comedy',\n",
       " 'it',\n",
       " 'ran',\n",
       " 'at',\n",
       " 'the',\n",
       " 'same',\n",
       " 'time',\n",
       " 'as',\n",
       " 'some',\n",
       " 'other',\n",
       " 'programs',\n",
       " 'about',\n",
       " 'school',\n",
       " 'life',\n",
       " 'such',\n",
       " 'as',\n",
       " 'teachers',\n",
       " 'my',\n",
       " 'years',\n",
       " 'in',\n",
       " 'the',\n",
       " 'teaching',\n",
       " 'profession',\n",
       " 'lead',\n",
       " 'me',\n",
       " 'to',\n",
       " 'believe',\n",
       " 'that',\n",
       " 'bromwell',\n",
       " 'high',\n",
       " 's',\n",
       " 'satire',\n",
       " 'is',\n",
       " 'much',\n",
       " 'closer',\n",
       " 'to',\n",
       " 'reality',\n",
       " 'than',\n",
       " 'is',\n",
       " 'teachers',\n",
       " 'the',\n",
       " 'scramble',\n",
       " 'to',\n",
       " 'survive',\n",
       " 'financially',\n",
       " 'the',\n",
       " 'insightful',\n",
       " 'students',\n",
       " 'who',\n",
       " 'can',\n",
       " 'see',\n",
       " 'right',\n",
       " 'through',\n",
       " 'their',\n",
       " 'pathetic',\n",
       " 'teachers',\n",
       " 'pomp',\n",
       " 'the',\n",
       " 'pettiness',\n",
       " 'of',\n",
       " 'the',\n",
       " 'whole',\n",
       " 'situation',\n",
       " 'all',\n",
       " 'remind',\n",
       " 'me',\n",
       " 'of',\n",
       " 'the',\n",
       " 'schools',\n",
       " 'i',\n",
       " 'knew',\n",
       " 'and',\n",
       " 'their',\n",
       " 'students',\n",
       " 'when',\n",
       " 'i',\n",
       " 'saw',\n",
       " 'the',\n",
       " 'episode',\n",
       " 'in',\n",
       " 'which',\n",
       " 'a',\n",
       " 'student',\n",
       " 'repeatedly',\n",
       " 'tried',\n",
       " 'to',\n",
       " 'burn',\n",
       " 'down',\n",
       " 'the',\n",
       " 'school',\n",
       " 'i',\n",
       " 'immediately',\n",
       " 'recalled',\n",
       " 'at',\n",
       " 'high']"
      ]
     },
     "execution_count": 7,
     "metadata": {},
     "output_type": "execute_result"
    }
   ],
   "source": [
    "words[:100]"
   ]
  },
  {
   "cell_type": "markdown",
   "metadata": {},
   "source": [
    "### Encoding the words\n",
    "\n",
    "The embedding lookup requires that we pass in integers to our network. The easiest way to do this is to create dictionaries that map the words in the vocabulary to integers. Then we can convert each of our reviews into integers so they can be passed into the network.\n",
    "\n",
    "> **Exercise:** Now you're going to encode the words with integers. Build a dictionary that maps words to integers. Later we're going to pad our input vectors with zeros, so make sure the integers **start at 1, not 0**.\n",
    "> Also, convert the reviews to integers and store the reviews in a new list called `reviews_ints`. "
   ]
  },
  {
   "cell_type": "code",
   "execution_count": 8,
   "metadata": {},
   "outputs": [],
   "source": [
    "# Create your dictionary that maps vocab words to integers here\n",
    "vocab_to_int = {w: i+1 for i, w in enumerate(set(words))}\n",
    "\n",
    "# Convert the reviews to integers, same shape as reviews list, but with integers\n",
    "reviews_ints = [[vocab_to_int[w] for w in rev.split()] for rev in reviews]\n",
    "# for rev in reviews:\n",
    "#     rev_int = \n",
    "#     reviews_ints.append(rev_int)"
   ]
  },
  {
   "cell_type": "markdown",
   "metadata": {},
   "source": [
    "### Encoding the labels\n",
    "\n",
    "Our labels are \"positive\" or \"negative\". To use these labels in our network, we need to convert them to 0 and 1.\n",
    "\n",
    "> **Exercise:** Convert labels from `positive` and `negative` to 1 and 0, respectively."
   ]
  },
  {
   "cell_type": "code",
   "execution_count": 9,
   "metadata": {},
   "outputs": [],
   "source": [
    "# Convert labels to 1s and 0s for 'positive' and 'negative'\n",
    "labels = [1 if l == 'positive' else 0 for l in labels.split('\\n')]"
   ]
  },
  {
   "cell_type": "markdown",
   "metadata": {},
   "source": [
    "If you built `labels` correctly, you should see the next output."
   ]
  },
  {
   "cell_type": "code",
   "execution_count": 10,
   "metadata": {},
   "outputs": [
    {
     "name": "stdout",
     "output_type": "stream",
     "text": [
      "Zero-length reviews: 1\n",
      "Maximum review length: 2514\n"
     ]
    }
   ],
   "source": [
    "from collections import Counter\n",
    "review_lens = Counter([len(x) for x in reviews_ints])\n",
    "print(\"Zero-length reviews: {}\".format(review_lens[0]))\n",
    "print(\"Maximum review length: {}\".format(max(review_lens)))"
   ]
  },
  {
   "cell_type": "markdown",
   "metadata": {},
   "source": [
    "Okay, a couple issues here. We seem to have one review with zero length. And, the maximum review length is way too many steps for our RNN. Let's truncate to 200 steps. For reviews shorter than 200, we'll pad with 0s. For reviews longer than 200, we can truncate them to the first 200 characters.\n",
    "\n",
    "> **Exercise:** First, remove the review with zero length from the `reviews_ints` list."
   ]
  },
  {
   "cell_type": "code",
   "execution_count": 11,
   "metadata": {},
   "outputs": [],
   "source": [
    "# Filter out that review with 0 length\n",
    "reviews_ints = [rev for rev in reviews_ints if len(rev) > 0]"
   ]
  },
  {
   "cell_type": "markdown",
   "metadata": {},
   "source": [
    "> **Exercise:** Now, create an array `features` that contains the data we'll pass to the network. The data should come from `review_ints`, since we want to feed integers to the network. Each row should be 200 elements long. For reviews shorter than 200 words, left pad with 0s. That is, if the review is `['best', 'movie', 'ever']`, `[117, 18, 128]` as integers, the row will look like `[0, 0, 0, ..., 0, 117, 18, 128]`. For reviews longer than 200, use on the first 200 words as the feature vector.\n",
    "\n",
    "This isn't trivial and there are a bunch of ways to do this. But, if you're going to be building your own deep learning networks, you're going to have to get used to preparing your data.\n",
    "\n"
   ]
  },
  {
   "cell_type": "code",
   "execution_count": 12,
   "metadata": {},
   "outputs": [],
   "source": [
    "seq_len = 200\n",
    "features = np.array([(seq_len-len(r))*[0]+r if seq_len-len(r)>0 else r[:seq_len] for r in reviews_ints])"
   ]
  },
  {
   "cell_type": "markdown",
   "metadata": {},
   "source": [
    "If you build features correctly, it should look like that cell output below."
   ]
  },
  {
   "cell_type": "code",
   "execution_count": 13,
   "metadata": {},
   "outputs": [
    {
     "data": {
      "text/plain": [
       "array([[    0,     0,     0,     0,     0,     0,     0,     0,     0,\n",
       "            0,     0,     0,     0,     0,     0,     0,     0,     0,\n",
       "            0,     0,     0,     0,     0,     0,     0,     0,     0,\n",
       "            0,     0,     0,     0,     0,     0,     0,     0,     0,\n",
       "            0,     0,     0,     0,     0,     0,     0,     0,     0,\n",
       "            0,     0,     0,     0,     0,     0,     0,     0,     0,\n",
       "            0,     0,     0,     0,     0,     0, 18998, 22725, 65553,\n",
       "        50446, 13926, 73805, 34489, 71933, 67641, 51146, 37061, 24800,\n",
       "        36655, 31069, 53805, 27931, 69587,  5967, 17945, 17292, 36655,\n",
       "        14591, 36691, 18921, 41094, 51146, 71278, 69701, 64199, 40949,\n",
       "        59756, 14300, 73302, 18998, 22725, 55117, 23851, 65553, 41960,\n",
       "        59850],\n",
       "       [    0,     0,     0,     0,     0,     0,     0,     0,     0,\n",
       "            0,     0,     0,     0,     0,     0,     0,     0,     0,\n",
       "            0,     0,     0,     0,     0,     0,     0,     0,     0,\n",
       "            0,     0,     0,     0,     0,     0,     0,     0,     0,\n",
       "            0,     0,     0,     0,     0,     0,     0,     0,     0,\n",
       "            0,     0,     0,     0,     0,     0,     0,     0,     0,\n",
       "            0,     0,     0,     0,     0,     0,     0,     0,     0,\n",
       "            0,     0,     0,     0,     0,     0,     0,     0,     0,\n",
       "            0,     0,     0,     0,     0,     0,     0,     0,     0,\n",
       "            0,     0,     0,     0,     0, 43358, 70675, 50446, 56623,\n",
       "        16433, 71328, 47998, 72890, 18186, 50446,  7205, 51682, 40211,\n",
       "        72959],\n",
       "       [67885, 66764, 22878, 36655, 20467, 51421, 13419, 71328,  7091,\n",
       "        65257, 48146, 18186, 18921, 71072, 32350, 50446,  7171, 59756,\n",
       "        34030, 54581, 70664, 51146, 58932, 73302,  1834, 52611, 70139,\n",
       "        69436, 16433, 32978, 57810, 60813, 60017, 59756,  5967, 11435,\n",
       "        66764, 60709, 18186, 51146, 50085, 43489, 16968,  3134, 70675,\n",
       "        51146, 72469, 36655,  1613, 50446, 33997, 48972, 28961, 12252,\n",
       "        69587, 41506, 17292, 36655, 19230, 51146, 37463, 70664, 47683,\n",
       "        43010, 59249, 59756, 48187,   752, 51146, 38701, 24544, 66764,\n",
       "        12252, 50846, 60325, 66103, 18313, 39089, 59756, 62215, 39579,\n",
       "        70664, 51146, 36226, 73282, 73282, 71072, 10180, 50846, 44776,\n",
       "         1834, 59784, 50446, 45733, 59756, 13803, 70664, 51146, 36226,\n",
       "        18186],\n",
       "       [73925, 51682, 36655, 50446, 73046, 13118, 45934, 25519, 65553,\n",
       "        50442, 39579, 72959, 66507, 29607, 17292,  9155, 59756, 63673,\n",
       "        61036,   761,  8160,  8274, 35387, 16433, 65553, 22907, 40087,\n",
       "        50446, 70295, 70675, 57351, 55117, 59756, 56746, 30411, 41094,\n",
       "          436, 70675, 34489, 30811, 53122, 59756, 51146, 16333, 36655,\n",
       "        50446, 28494, 54344, 70664, 55563, 65553,  8160, 49993,  4771,\n",
       "        30149,  3389, 19836, 58597, 51146, 45934,   993, 15417, 67434,\n",
       "        36655, 42150, 71072, 41993, 19315, 51146, 25519, 65553, 23091,\n",
       "        29034, 16519, 51146, 20269, 49700,  2640, 58930, 14002, 56746,\n",
       "        62073, 57612, 55117, 66677, 35349, 17770, 61990, 33422, 21155,\n",
       "        16433, 44973, 51146, 59220, 43291, 40211, 72959, 29639, 45120,\n",
       "        60325],\n",
       "       [    0,     0,     0,     0,     0,     0,     0,     0,     0,\n",
       "            0,     0,     0,     0,     0,     0,     0,     0,     0,\n",
       "            0,     0,     0,     0,     0,     0,     0,     0,     0,\n",
       "            0,     0,     0,     0,     0,     0,     0,     0,     0,\n",
       "            0,     0,     0,     0,     0,     0,     0,     0,     0,\n",
       "            0,     0,     0,     0,     0, 52890, 25604, 25448, 16519,\n",
       "         8221, 28116, 14881, 56038, 44818, 40389, 10454, 20785, 36350,\n",
       "        27978, 48759,  3996, 21220, 38590, 41094, 32191, 58599, 16175,\n",
       "        37346, 59756, 24245, 51146, 68492, 70664, 73803, 65553, 50446,\n",
       "         8351, 36655, 55543, 36655, 56934, 41094, 64382, 56983, 51146,\n",
       "        42670, 70664, 61765, 65553, 54344, 12224, 44401, 30811,  6162,\n",
       "        70675],\n",
       "       [    0,     0,     0,     0,     0,     0,     0,     0,     0,\n",
       "            0,     0,     0,     0,     0,     0,     0,     0,     0,\n",
       "            0,     0,     0,     0,     0,     0,     0,     0,     0,\n",
       "            0,     0,     0,     0,     0,     0,     0,     0,     0,\n",
       "            0,     0,     0,     0,     0,     0,     0,     0,     0,\n",
       "            0,     0,     0,     0,     0,     0,     0,     0,     0,\n",
       "        20293, 71533, 39729, 27540, 20785,  2386, 64685, 38100, 36691,\n",
       "        49816, 70664, 67641, 24702, 44737, 70664, 51146, 31973, 70675,\n",
       "        51146, 27078,  8069, 20293, 24228, 64862, 59756, 49553, 70675,\n",
       "        20049, 29225, 18757, 71379, 51146, 52499, 72959, 19836, 27078,\n",
       "        56623,  5227, 51146, 22811, 38590, 72825,  2617, 36655, 30811,\n",
       "        58883],\n",
       "       [    0,     0,     0,     0,     0,     0,     0,     0,     0,\n",
       "            0,     0,     0,     0,     0,     0,     0,     0,     0,\n",
       "            0,     0,     0,     0,     0,     0,     0,     0,     0,\n",
       "            0,     0,     0,     0,     0,     0,     0,     0,     0,\n",
       "            0,     0,     0,     0,     0,     0,     0,     0,     0,\n",
       "            0,     0,     0,     0,     0,     0,     0,     0,     0,\n",
       "            0,     0,     0,     0,     0,     0,     0,     0,     0,\n",
       "            0,     0,     0,     0,     0,     0,     0,     0,     0,\n",
       "            0,     0,     0,     0, 20293, 65553, 21421, 51146, 43489,\n",
       "        49730, 71533, 16985, 51146, 69487, 14425, 56761, 24852, 53630,\n",
       "        34489, 39576, 31302, 10258, 50446, 56476, 11074, 70675, 67885,\n",
       "        27644],\n",
       "       [    0,     0,     0,     0,     0,     0,     0,     0,     0,\n",
       "            0,     0,     0,     0,     0,     0,     0,     0,     0,\n",
       "            0,     0,     0,     0,     0,     0,     0,     0,     0,\n",
       "            0,     0,     0,     0,     0,     0,     0,     0,     0,\n",
       "            0,     0,     0,     0,     0,     0,     0,     0,     0,\n",
       "            0,     0, 66856, 31338, 20785, 58270, 20293, 65553, 42757,\n",
       "        59756, 18313, 65257, 11988, 71533, 71072, 62801, 60325, 12002,\n",
       "        36350, 52225, 40211, 62123, 67641, 51146, 47338,   118, 16968,\n",
       "        63403, 24488, 40351, 54521, 40211,  3996, 31302, 38538, 37050,\n",
       "        51146,  9997, 38257,  3996,  2652, 43930, 68635, 47994, 20293,\n",
       "        43358, 65553,  3451, 44048, 59756, 38538, 51146, 43110, 70675,\n",
       "        50446],\n",
       "       [    0,     0,     0,     0,     0,     0,     0,     0,     0,\n",
       "            0,     0,     0,     0,     0,     0,     0,     0,     0,\n",
       "            0,     0,     0,     0,     0,     0,     0,     0,     0,\n",
       "            0,     0,     0,     0,     0,     0,     0,     0,     0,\n",
       "            0,     0,     0,     0,     0,     0,     0,     0,     0,\n",
       "            0,     0,     0,     0,     0,     0,     0,     0,     0,\n",
       "            0,     0,     0,     0,     0,     0,     0,     0,     0,\n",
       "            0,     0,     0,     0,     0,     0,     0,     0,     0,\n",
       "            0,     0,     0,     0,     0,     0,     0, 20293, 65553,\n",
       "        31302, 51146, 62275, 30546, 69487, 71533, 34489, 68635, 41960,\n",
       "        72166, 34818, 25063, 43489, 70675, 56746, 14258,  3996, 47103,\n",
       "        60066],\n",
       "       [29225, 20785, 68635, 37806, 36691, 16112,  3334, 40949, 38184,\n",
       "        59756, 51146, 64449, 59756, 45627, 14665, 34489, 68635, 40542,\n",
       "        70675, 11160, 14258, 20785, 40290, 72959, 36691, 16112, 71072,\n",
       "        20293, 68635, 51146, 19557, 40542, 61967, 62841, 40211, 70675,\n",
       "        54445, 23553, 20785, 60066, 32350, 48759, 14665, 56215,  1613,\n",
       "        47585,  3996, 20785, 63403, 36350, 68327, 40211, 51146,  7402,\n",
       "        70675, 36691, 17945, 41432, 34489, 10180, 50446, 44486, 22524,\n",
       "         3996, 42850, 28638,   707, 70675, 55117, 58841,  3996, 36001,\n",
       "        11698, 63891, 73600, 65553, 40542, 70675, 36691, 20399, 41512,\n",
       "        71072, 14665, 65553, 16519, 73878, 51146, 64543,   707, 70675,\n",
       "         3260, 70675, 56746, 47555, 41094, 51146, 72709, 30389, 70675,\n",
       "        55497]])"
      ]
     },
     "execution_count": 13,
     "metadata": {},
     "output_type": "execute_result"
    }
   ],
   "source": [
    "features[:10,:100]"
   ]
  },
  {
   "cell_type": "markdown",
   "metadata": {},
   "source": [
    "## Training, Validation, Test\n",
    "\n"
   ]
  },
  {
   "cell_type": "markdown",
   "metadata": {},
   "source": [
    "With our data in nice shape, we'll split it into training, validation, and test sets.\n",
    "\n",
    "> **Exercise:** Create the training, validation, and test sets here. You'll need to create sets for the features and the labels, `train_x` and `train_y` for example. Define a split fraction, `split_frac` as the fraction of data to keep in the training set. Usually this is set to 0.8 or 0.9. The rest of the data will be split in half to create the validation and testing data."
   ]
  },
  {
   "cell_type": "code",
   "execution_count": 14,
   "metadata": {},
   "outputs": [
    {
     "name": "stdout",
     "output_type": "stream",
     "text": [
      "\t\t\tFeature Shapes:\n",
      "Train set: \t\t(20000, 200) \n",
      "Validation set: \t(2500, 200) \n",
      "Test set: \t\t(2500, 200)\n"
     ]
    }
   ],
   "source": [
    "split_frac = 0.8\n",
    "train_end_index = int(split_frac * features.shape[0])\n",
    "\n",
    "train_x, val_x = features[:train_end_index, :], features[train_end_index:, :]\n",
    "train_y, val_y = np.asarray(labels[:train_end_index]), np.asarray(labels[train_end_index:])\n",
    "\n",
    "val_x, test_x = val_x[:val_x.shape[0]//2, :], val_x[val_x.shape[0]//2:, :]\n",
    "val_y, test_y = np.asarray(val_y[:len(val_y)//2]), np.asarray(val_y[len(val_y)//2:])\n",
    "\n",
    "print(\"\\t\\t\\tFeature Shapes:\")\n",
    "print(\"Train set: \\t\\t{}\".format(train_x.shape), \n",
    "      \"\\nValidation set: \\t{}\".format(val_x.shape),\n",
    "      \"\\nTest set: \\t\\t{}\".format(test_x.shape))"
   ]
  },
  {
   "cell_type": "markdown",
   "metadata": {},
   "source": [
    "With train, validation, and text fractions of 0.8, 0.1, 0.1, the final shapes should look like:\n",
    "```\n",
    "                    Feature Shapes:\n",
    "Train set: \t\t (20000, 200) \n",
    "Validation set: \t(2500, 200) \n",
    "Test set: \t\t  (2500, 200)\n",
    "```"
   ]
  },
  {
   "cell_type": "markdown",
   "metadata": {},
   "source": [
    "## Build the graph\n",
    "\n",
    "Here, we'll build the graph. First up, defining the hyperparameters.\n",
    "\n",
    "* `lstm_size`: Number of units in the hidden layers in the LSTM cells. Usually larger is better performance wise. Common values are 128, 256, 512, etc.\n",
    "* `lstm_layers`: Number of LSTM layers in the network. I'd start with 1, then add more if I'm underfitting.\n",
    "* `batch_size`: The number of reviews to feed the network in one training pass. Typically this should be set as high as you can go without running out of memory.\n",
    "* `learning_rate`: Learning rate"
   ]
  },
  {
   "cell_type": "code",
   "execution_count": 25,
   "metadata": {},
   "outputs": [],
   "source": [
    "lstm_size = 256\n",
    "lstm_layers = 1\n",
    "batch_size = 500\n",
    "learning_rate = 0.001"
   ]
  },
  {
   "cell_type": "markdown",
   "metadata": {},
   "source": [
    "For the network itself, we'll be passing in our 200 element long review vectors. Each batch will be `batch_size` vectors. We'll also be using dropout on the LSTM layer, so we'll make a placeholder for the keep probability."
   ]
  },
  {
   "cell_type": "markdown",
   "metadata": {},
   "source": [
    "> **Exercise:** Create the `inputs_`, `labels_`, and drop out `keep_prob` placeholders using `tf.placeholder`. `labels_` needs to be two-dimensional to work with some functions later.  Since `keep_prob` is a scalar (a 0-dimensional tensor), you shouldn't provide a size to `tf.placeholder`."
   ]
  },
  {
   "cell_type": "code",
   "execution_count": 26,
   "metadata": {},
   "outputs": [],
   "source": [
    "n_words = len(vocab_to_int) + 1 # Adding 1 because we use 0's for padding, dictionary started at 1\n",
    "\n",
    "# Create the graph object\n",
    "graph = tf.Graph()\n",
    "# Add nodes to the graph\n",
    "with graph.as_default():\n",
    "    inputs_ = tf.placeholder(tf.int32, shape=(None, None), name='inputs')\n",
    "    labels_ = tf.placeholder(tf.int32, shape=(None, None), name='labels')\n",
    "    keep_prob = tf.placeholder(tf.float32, name='keep_prob')"
   ]
  },
  {
   "cell_type": "markdown",
   "metadata": {},
   "source": [
    "### Embedding\n",
    "\n",
    "Now we'll add an embedding layer. We need to do this because there are 74000 words in our vocabulary. It is massively inefficient to one-hot encode our classes here. You should remember dealing with this problem from the word2vec lesson. Instead of one-hot encoding, we can have an embedding layer and use that layer as a lookup table. You could train an embedding layer using word2vec, then load it here. But, it's fine to just make a new layer and let the network learn the weights.\n",
    "\n",
    "> **Exercise:** Create the embedding lookup matrix as a `tf.Variable`. Use that embedding matrix to get the embedded vectors to pass to the LSTM cell with [`tf.nn.embedding_lookup`](https://www.tensorflow.org/api_docs/python/tf/nn/embedding_lookup). This function takes the embedding matrix and an input tensor, such as the review vectors. Then, it'll return another tensor with the embedded vectors. So, if the embedding layer has 200 units, the function will return a tensor with size [batch_size, 200].\n",
    "\n"
   ]
  },
  {
   "cell_type": "code",
   "execution_count": 27,
   "metadata": {},
   "outputs": [],
   "source": [
    "# Size of the embedding vectors (number of units in the embedding layer)\n",
    "embed_size = 300 \n",
    "\n",
    "with graph.as_default():\n",
    "    embedding = tf.Variable(tf.random_uniform((n_words, embed_size), -1, 1))\n",
    "    embed = tf.nn.embedding_lookup(embedding, inputs_)"
   ]
  },
  {
   "cell_type": "markdown",
   "metadata": {},
   "source": [
    "### LSTM cell\n",
    "\n",
    "<img src=\"assets/network_diagram.png\" width=400px>\n",
    "\n",
    "Next, we'll create our LSTM cells to use in the recurrent network ([TensorFlow documentation](https://www.tensorflow.org/api_docs/python/tf/contrib/rnn)). Here we are just defining what the cells look like. This isn't actually building the graph, just defining the type of cells we want in our graph.\n",
    "\n",
    "To create a basic LSTM cell for the graph, you'll want to use `tf.contrib.rnn.BasicLSTMCell`. Looking at the function documentation:\n",
    "\n",
    "```\n",
    "tf.contrib.rnn.BasicLSTMCell(num_units, forget_bias=1.0, input_size=None, state_is_tuple=True, activation=<function tanh at 0x109f1ef28>)\n",
    "```\n",
    "\n",
    "you can see it takes a parameter called `num_units`, the number of units in the cell, called `lstm_size` in this code. So then, you can write something like \n",
    "\n",
    "```\n",
    "lstm = tf.contrib.rnn.BasicLSTMCell(num_units)\n",
    "```\n",
    "\n",
    "to create an LSTM cell with `num_units`. Next, you can add dropout to the cell with `tf.contrib.rnn.DropoutWrapper`. This just wraps the cell in another cell, but with dropout added to the inputs and/or outputs. It's a really convenient way to make your network better with almost no effort! So you'd do something like\n",
    "\n",
    "```\n",
    "drop = tf.contrib.rnn.DropoutWrapper(cell, output_keep_prob=keep_prob)\n",
    "```\n",
    "\n",
    "Most of the time, your network will have better performance with more layers. That's sort of the magic of deep learning, adding more layers allows the network to learn really complex relationships. Again, there is a simple way to create multiple layers of LSTM cells with `tf.contrib.rnn.MultiRNNCell`:\n",
    "\n",
    "```\n",
    "cell = tf.contrib.rnn.MultiRNNCell([drop] * lstm_layers)\n",
    "```\n",
    "\n",
    "Here, `[drop] * lstm_layers` creates a list of cells (`drop`) that is `lstm_layers` long. The `MultiRNNCell` wrapper builds this into multiple layers of RNN cells, one for each cell in the list.\n",
    "\n",
    "So the final cell you're using in the network is actually multiple (or just one) LSTM cells with dropout. But it all works the same from an architectural viewpoint, just a more complicated graph in the cell.\n",
    "\n",
    "> **Exercise:** Below, use `tf.contrib.rnn.BasicLSTMCell` to create an LSTM cell. Then, add drop out to it with `tf.contrib.rnn.DropoutWrapper`. Finally, create multiple LSTM layers with `tf.contrib.rnn.MultiRNNCell`.\n",
    "\n",
    "Here is [a tutorial on building RNNs](https://www.tensorflow.org/tutorials/recurrent) that will help you out.\n"
   ]
  },
  {
   "cell_type": "code",
   "execution_count": 28,
   "metadata": {},
   "outputs": [],
   "source": [
    "with graph.as_default():\n",
    "    # Your basic LSTM cell\n",
    "    lstm = tf.contrib.rnn.BasicLSTMCell(lstm_size)\n",
    "    \n",
    "    # Add dropout to the cell\n",
    "    drop = tf.contrib.rnn.DropoutWrapper(lstm, output_keep_prob=keep_prob)\n",
    "    \n",
    "    # Stack up multiple LSTM layers, for deep learning\n",
    "    cell = tf.contrib.rnn.MultiRNNCell([drop] * lstm_layers)\n",
    "    \n",
    "    # Getting an initial state of all zeros\n",
    "    initial_state = cell.zero_state(batch_size, tf.float32)"
   ]
  },
  {
   "cell_type": "markdown",
   "metadata": {},
   "source": [
    "### RNN forward pass\n",
    "\n",
    "<img src=\"assets/network_diagram.png\" width=400px>\n",
    "\n",
    "Now we need to actually run the data through the RNN nodes. You can use [`tf.nn.dynamic_rnn`](https://www.tensorflow.org/api_docs/python/tf/nn/dynamic_rnn) to do this. You'd pass in the RNN cell you created (our multiple layered LSTM `cell` for instance), and the inputs to the network.\n",
    "\n",
    "```\n",
    "outputs, final_state = tf.nn.dynamic_rnn(cell, inputs, initial_state=initial_state)\n",
    "```\n",
    "\n",
    "Above I created an initial state, `initial_state`, to pass to the RNN. This is the cell state that is passed between the hidden layers in successive time steps. `tf.nn.dynamic_rnn` takes care of most of the work for us. We pass in our cell and the input to the cell, then it does the unrolling and everything else for us. It returns outputs for each time step and the final_state of the hidden layer.\n",
    "\n",
    "> **Exercise:** Use `tf.nn.dynamic_rnn` to add the forward pass through the RNN. Remember that we're actually passing in vectors from the embedding layer, `embed`.\n",
    "\n"
   ]
  },
  {
   "cell_type": "code",
   "execution_count": 29,
   "metadata": {},
   "outputs": [],
   "source": [
    "with graph.as_default():\n",
    "    outputs, final_state = tf.nn.dynamic_rnn(cell, embed, initial_state=initial_state)"
   ]
  },
  {
   "cell_type": "markdown",
   "metadata": {},
   "source": [
    "### Output\n",
    "\n",
    "We only care about the final output, we'll be using that as our sentiment prediction. So we need to grab the last output with `outputs[:, -1]`, the calculate the cost from that and `labels_`."
   ]
  },
  {
   "cell_type": "code",
   "execution_count": 30,
   "metadata": {},
   "outputs": [],
   "source": [
    "with graph.as_default():\n",
    "    predictions = tf.contrib.layers.fully_connected(outputs[:, -1], 1, activation_fn=tf.sigmoid)\n",
    "    cost = tf.losses.mean_squared_error(labels_, predictions)\n",
    "    \n",
    "    optimizer = tf.train.AdamOptimizer(learning_rate).minimize(cost)"
   ]
  },
  {
   "cell_type": "markdown",
   "metadata": {},
   "source": [
    "### Validation accuracy\n",
    "\n",
    "Here we can add a few nodes to calculate the accuracy which we'll use in the validation pass."
   ]
  },
  {
   "cell_type": "code",
   "execution_count": 31,
   "metadata": {},
   "outputs": [],
   "source": [
    "with graph.as_default():\n",
    "    correct_pred = tf.equal(tf.cast(tf.round(predictions), tf.int32), labels_)\n",
    "    accuracy = tf.reduce_mean(tf.cast(correct_pred, tf.float32))"
   ]
  },
  {
   "cell_type": "markdown",
   "metadata": {},
   "source": [
    "### Batching\n",
    "\n",
    "This is a simple function for returning batches from our data. First it removes data such that we only have full batches. Then it iterates through the `x` and `y` arrays and returns slices out of those arrays with size `[batch_size]`."
   ]
  },
  {
   "cell_type": "code",
   "execution_count": 32,
   "metadata": {},
   "outputs": [],
   "source": [
    "def get_batches(x, y, batch_size=100):\n",
    "    \n",
    "    n_batches = len(x)//batch_size\n",
    "    x, y = x[:n_batches*batch_size], y[:n_batches*batch_size]\n",
    "    for ii in range(0, len(x), batch_size):\n",
    "        yield x[ii:ii+batch_size], y[ii:ii+batch_size]"
   ]
  },
  {
   "cell_type": "markdown",
   "metadata": {},
   "source": [
    "## Training\n",
    "\n",
    "Below is the typical training code. If you want to do this yourself, feel free to delete all this code and implement it yourself. Before you run this, make sure the `checkpoints` directory exists."
   ]
  },
  {
   "cell_type": "code",
   "execution_count": 33,
   "metadata": {},
   "outputs": [
    {
     "name": "stdout",
     "output_type": "stream",
     "text": [
      "Epoch: 0/20 Iteration: 5 Train loss: 0.261\n",
      "Epoch: 0/20 Iteration: 10 Train loss: 0.234\n",
      "Epoch: 0/20 Iteration: 15 Train loss: 0.244\n",
      "Epoch: 0/20 Iteration: 20 Train loss: 0.240\n",
      "Epoch: 0/20 Iteration: 25 Train loss: 0.227\n",
      "Val acc: 0.614\n",
      "Epoch: 0/20 Iteration: 30 Train loss: 0.220\n",
      "Epoch: 0/20 Iteration: 35 Train loss: 0.182\n",
      "Epoch: 0/20 Iteration: 40 Train loss: 0.219\n",
      "Epoch: 1/20 Iteration: 45 Train loss: 0.178\n",
      "Epoch: 1/20 Iteration: 50 Train loss: 0.130\n",
      "Val acc: 0.738\n",
      "Epoch: 1/20 Iteration: 55 Train loss: 0.146\n",
      "Epoch: 1/20 Iteration: 60 Train loss: 0.148\n",
      "Epoch: 1/20 Iteration: 65 Train loss: 0.123\n",
      "Epoch: 1/20 Iteration: 70 Train loss: 0.140\n",
      "Epoch: 1/20 Iteration: 75 Train loss: 0.139\n",
      "Val acc: 0.761\n",
      "Epoch: 1/20 Iteration: 80 Train loss: 0.109\n",
      "Epoch: 2/20 Iteration: 85 Train loss: 0.486\n",
      "Epoch: 2/20 Iteration: 90 Train loss: 0.330\n",
      "Epoch: 2/20 Iteration: 95 Train loss: 0.279\n",
      "Epoch: 2/20 Iteration: 100 Train loss: 0.212\n",
      "Val acc: 0.614\n",
      "Epoch: 2/20 Iteration: 105 Train loss: 0.177\n",
      "Epoch: 2/20 Iteration: 110 Train loss: 0.064\n",
      "Epoch: 2/20 Iteration: 115 Train loss: 0.029\n",
      "Epoch: 2/20 Iteration: 120 Train loss: 0.005\n",
      "Epoch: 3/20 Iteration: 125 Train loss: 0.146\n",
      "Val acc: 0.852\n",
      "Epoch: 3/20 Iteration: 130 Train loss: 0.047\n",
      "Epoch: 3/20 Iteration: 135 Train loss: 0.054\n",
      "Epoch: 3/20 Iteration: 140 Train loss: 0.016\n",
      "Epoch: 3/20 Iteration: 145 Train loss: 0.014\n",
      "Epoch: 3/20 Iteration: 150 Train loss: 0.008\n",
      "Val acc: 0.632\n",
      "Epoch: 3/20 Iteration: 155 Train loss: 0.017\n",
      "Epoch: 3/20 Iteration: 160 Train loss: 0.012\n",
      "Epoch: 4/20 Iteration: 165 Train loss: 0.225\n",
      "Epoch: 4/20 Iteration: 170 Train loss: 0.134\n",
      "Epoch: 4/20 Iteration: 175 Train loss: 0.044\n",
      "Val acc: 0.774\n",
      "Epoch: 4/20 Iteration: 180 Train loss: 0.027\n",
      "Epoch: 4/20 Iteration: 185 Train loss: 0.017\n",
      "Epoch: 4/20 Iteration: 190 Train loss: 0.007\n",
      "Epoch: 4/20 Iteration: 195 Train loss: 0.003\n",
      "Epoch: 4/20 Iteration: 200 Train loss: 0.003\n",
      "Val acc: 0.880\n",
      "Epoch: 5/20 Iteration: 205 Train loss: 0.034\n",
      "Epoch: 5/20 Iteration: 210 Train loss: 0.009\n",
      "Epoch: 5/20 Iteration: 215 Train loss: 0.006\n",
      "Epoch: 5/20 Iteration: 220 Train loss: 0.002\n",
      "Epoch: 5/20 Iteration: 225 Train loss: 0.002\n",
      "Val acc: 0.873\n",
      "Epoch: 5/20 Iteration: 230 Train loss: 0.000\n",
      "Epoch: 5/20 Iteration: 235 Train loss: 0.000\n",
      "Epoch: 5/20 Iteration: 240 Train loss: 0.001\n",
      "Epoch: 6/20 Iteration: 245 Train loss: 0.006\n",
      "Epoch: 6/20 Iteration: 250 Train loss: 0.012\n",
      "Val acc: 0.797\n",
      "Epoch: 6/20 Iteration: 255 Train loss: 0.000\n",
      "Epoch: 6/20 Iteration: 260 Train loss: 0.000\n",
      "Epoch: 6/20 Iteration: 265 Train loss: 0.001\n",
      "Epoch: 6/20 Iteration: 270 Train loss: 0.001\n",
      "Epoch: 6/20 Iteration: 275 Train loss: 0.001\n",
      "Val acc: 0.871\n",
      "Epoch: 6/20 Iteration: 280 Train loss: 0.000\n",
      "Epoch: 7/20 Iteration: 285 Train loss: 0.006\n",
      "Epoch: 7/20 Iteration: 290 Train loss: 0.001\n",
      "Epoch: 7/20 Iteration: 295 Train loss: 0.000\n",
      "Epoch: 7/20 Iteration: 300 Train loss: 0.001\n",
      "Val acc: 0.842\n",
      "Epoch: 7/20 Iteration: 305 Train loss: 0.001\n",
      "Epoch: 7/20 Iteration: 310 Train loss: 0.000\n",
      "Epoch: 7/20 Iteration: 315 Train loss: 0.000\n",
      "Epoch: 7/20 Iteration: 320 Train loss: 0.000\n",
      "Epoch: 8/20 Iteration: 325 Train loss: 0.010\n",
      "Val acc: 0.801\n",
      "Epoch: 8/20 Iteration: 330 Train loss: 0.006\n",
      "Epoch: 8/20 Iteration: 335 Train loss: 0.001\n",
      "Epoch: 8/20 Iteration: 340 Train loss: 0.002\n",
      "Epoch: 8/20 Iteration: 345 Train loss: 0.000\n",
      "Epoch: 8/20 Iteration: 350 Train loss: 0.000\n",
      "Val acc: 0.884\n",
      "Epoch: 8/20 Iteration: 355 Train loss: 0.000\n",
      "Epoch: 8/20 Iteration: 360 Train loss: 0.000\n",
      "Epoch: 9/20 Iteration: 365 Train loss: 0.003\n",
      "Epoch: 9/20 Iteration: 370 Train loss: 0.001\n",
      "Epoch: 9/20 Iteration: 375 Train loss: 0.001\n",
      "Val acc: 0.891\n",
      "Epoch: 9/20 Iteration: 380 Train loss: 0.001\n",
      "Epoch: 9/20 Iteration: 385 Train loss: 0.001\n",
      "Epoch: 9/20 Iteration: 390 Train loss: 0.000\n",
      "Epoch: 9/20 Iteration: 395 Train loss: 0.000\n",
      "Epoch: 9/20 Iteration: 400 Train loss: 0.000\n",
      "Val acc: 0.877\n",
      "Epoch: 10/20 Iteration: 405 Train loss: 0.000\n",
      "Epoch: 10/20 Iteration: 410 Train loss: 0.000\n",
      "Epoch: 10/20 Iteration: 415 Train loss: 0.000\n",
      "Epoch: 10/20 Iteration: 420 Train loss: 0.000\n",
      "Epoch: 10/20 Iteration: 425 Train loss: 0.000\n",
      "Val acc: 0.882\n",
      "Epoch: 10/20 Iteration: 430 Train loss: 0.000\n",
      "Epoch: 10/20 Iteration: 435 Train loss: 0.000\n",
      "Epoch: 10/20 Iteration: 440 Train loss: 0.000\n",
      "Epoch: 11/20 Iteration: 445 Train loss: 0.000\n",
      "Epoch: 11/20 Iteration: 450 Train loss: 0.000\n",
      "Val acc: 0.887\n",
      "Epoch: 11/20 Iteration: 455 Train loss: 0.000\n",
      "Epoch: 11/20 Iteration: 460 Train loss: 0.000\n",
      "Epoch: 11/20 Iteration: 465 Train loss: 0.000\n",
      "Epoch: 11/20 Iteration: 470 Train loss: 0.000\n",
      "Epoch: 11/20 Iteration: 475 Train loss: 0.000\n",
      "Val acc: 0.883\n",
      "Epoch: 11/20 Iteration: 480 Train loss: 0.000\n",
      "Epoch: 12/20 Iteration: 485 Train loss: 0.000\n",
      "Epoch: 12/20 Iteration: 490 Train loss: 0.000\n",
      "Epoch: 12/20 Iteration: 495 Train loss: 0.000\n",
      "Epoch: 12/20 Iteration: 500 Train loss: 0.000\n",
      "Val acc: 0.878\n",
      "Epoch: 12/20 Iteration: 505 Train loss: 0.000\n",
      "Epoch: 12/20 Iteration: 510 Train loss: 0.000\n",
      "Epoch: 12/20 Iteration: 515 Train loss: 0.000\n",
      "Epoch: 12/20 Iteration: 520 Train loss: 0.000\n",
      "Epoch: 13/20 Iteration: 525 Train loss: 0.000\n",
      "Val acc: 0.879\n",
      "Epoch: 13/20 Iteration: 530 Train loss: 0.000\n",
      "Epoch: 13/20 Iteration: 535 Train loss: 0.000\n",
      "Epoch: 13/20 Iteration: 540 Train loss: 0.000\n",
      "Epoch: 13/20 Iteration: 545 Train loss: 0.000\n",
      "Epoch: 13/20 Iteration: 550 Train loss: 0.000\n",
      "Val acc: 0.876\n",
      "Epoch: 13/20 Iteration: 555 Train loss: 0.000\n",
      "Epoch: 13/20 Iteration: 560 Train loss: 0.000\n",
      "Epoch: 14/20 Iteration: 565 Train loss: 0.000\n",
      "Epoch: 14/20 Iteration: 570 Train loss: 0.000\n",
      "Epoch: 14/20 Iteration: 575 Train loss: 0.000\n",
      "Val acc: 0.876\n",
      "Epoch: 14/20 Iteration: 580 Train loss: 0.000\n",
      "Epoch: 14/20 Iteration: 585 Train loss: 0.000\n",
      "Epoch: 14/20 Iteration: 590 Train loss: 0.000\n",
      "Epoch: 14/20 Iteration: 595 Train loss: 0.000\n",
      "Epoch: 14/20 Iteration: 600 Train loss: 0.000\n",
      "Val acc: 0.876\n",
      "Epoch: 15/20 Iteration: 605 Train loss: 0.000\n",
      "Epoch: 15/20 Iteration: 610 Train loss: 0.000\n",
      "Epoch: 15/20 Iteration: 615 Train loss: 0.000\n",
      "Epoch: 15/20 Iteration: 620 Train loss: 0.000\n",
      "Epoch: 15/20 Iteration: 625 Train loss: 0.000\n",
      "Val acc: 0.877\n",
      "Epoch: 15/20 Iteration: 630 Train loss: 0.000\n",
      "Epoch: 15/20 Iteration: 635 Train loss: 0.000\n",
      "Epoch: 15/20 Iteration: 640 Train loss: 0.000\n",
      "Epoch: 16/20 Iteration: 645 Train loss: 0.000\n",
      "Epoch: 16/20 Iteration: 650 Train loss: 0.000\n",
      "Val acc: 0.877\n",
      "Epoch: 16/20 Iteration: 655 Train loss: 0.000\n",
      "Epoch: 16/20 Iteration: 660 Train loss: 0.000\n",
      "Epoch: 16/20 Iteration: 665 Train loss: 0.000\n",
      "Epoch: 16/20 Iteration: 670 Train loss: 0.000\n",
      "Epoch: 16/20 Iteration: 675 Train loss: 0.000\n",
      "Val acc: 0.876\n",
      "Epoch: 16/20 Iteration: 680 Train loss: 0.000\n",
      "Epoch: 17/20 Iteration: 685 Train loss: 0.000\n",
      "Epoch: 17/20 Iteration: 690 Train loss: 0.000\n",
      "Epoch: 17/20 Iteration: 695 Train loss: 0.000\n",
      "Epoch: 17/20 Iteration: 700 Train loss: 0.000\n",
      "Val acc: 0.877\n",
      "Epoch: 17/20 Iteration: 705 Train loss: 0.000\n",
      "Epoch: 17/20 Iteration: 710 Train loss: 0.000\n",
      "Epoch: 17/20 Iteration: 715 Train loss: 0.000\n",
      "Epoch: 17/20 Iteration: 720 Train loss: 0.000\n",
      "Epoch: 18/20 Iteration: 725 Train loss: 0.000\n",
      "Val acc: 0.876\n",
      "Epoch: 18/20 Iteration: 730 Train loss: 0.000\n",
      "Epoch: 18/20 Iteration: 735 Train loss: 0.000\n",
      "Epoch: 18/20 Iteration: 740 Train loss: 0.000\n",
      "Epoch: 18/20 Iteration: 745 Train loss: 0.000\n",
      "Epoch: 18/20 Iteration: 750 Train loss: 0.000\n",
      "Val acc: 0.876\n",
      "Epoch: 18/20 Iteration: 755 Train loss: 0.000\n",
      "Epoch: 18/20 Iteration: 760 Train loss: 0.000\n",
      "Epoch: 19/20 Iteration: 765 Train loss: 0.000\n",
      "Epoch: 19/20 Iteration: 770 Train loss: 0.000\n",
      "Epoch: 19/20 Iteration: 775 Train loss: 0.000\n",
      "Val acc: 0.876\n",
      "Epoch: 19/20 Iteration: 780 Train loss: 0.000\n",
      "Epoch: 19/20 Iteration: 785 Train loss: 0.000\n",
      "Epoch: 19/20 Iteration: 790 Train loss: 0.000\n",
      "Epoch: 19/20 Iteration: 795 Train loss: 0.000\n",
      "Epoch: 19/20 Iteration: 800 Train loss: 0.000\n",
      "Val acc: 0.876\n"
     ]
    }
   ],
   "source": [
    "epochs = 10\n",
    "\n",
    "with graph.as_default():\n",
    "    saver = tf.train.Saver()\n",
    "\n",
    "with tf.Session(graph=graph) as sess:\n",
    "    sess.run(tf.global_variables_initializer())\n",
    "    iteration = 1\n",
    "    for e in range(epochs):\n",
    "        state = sess.run(initial_state)\n",
    "        \n",
    "        for ii, (x, y) in enumerate(get_batches(train_x, train_y, batch_size), 1):\n",
    "            feed = {inputs_: x,\n",
    "                    labels_: y[:, None],\n",
    "                    keep_prob: 0.5,\n",
    "                    initial_state: state}\n",
    "            loss, state, _ = sess.run([cost, final_state, optimizer], feed_dict=feed)\n",
    "            \n",
    "            if iteration%5==0:\n",
    "                print(\"Epoch: {}/{}\".format(e, epochs),\n",
    "                      \"Iteration: {}\".format(iteration),\n",
    "                      \"Train loss: {:.3f}\".format(loss))\n",
    "\n",
    "            if iteration%25==0:\n",
    "                val_acc = []\n",
    "                val_state = sess.run(cell.zero_state(batch_size, tf.float32))\n",
    "                for x, y in get_batches(val_x, val_y, batch_size):\n",
    "                    feed = {inputs_: x,\n",
    "                            labels_: y[:, None],\n",
    "                            keep_prob: 1,\n",
    "                            initial_state: val_state}\n",
    "                    batch_acc, val_state = sess.run([accuracy, final_state], feed_dict=feed)\n",
    "                    val_acc.append(batch_acc)\n",
    "                print(\"Val acc: {:.3f}\".format(np.mean(val_acc)))\n",
    "            iteration +=1\n",
    "    saver.save(sess, \"checkpoints/sentiment.ckpt\")"
   ]
  },
  {
   "cell_type": "markdown",
   "metadata": {},
   "source": [
    "## Testing"
   ]
  },
  {
   "cell_type": "code",
   "execution_count": 24,
   "metadata": {},
   "outputs": [
    {
     "name": "stdout",
     "output_type": "stream",
     "text": [
      "Test accuracy: 0.694\n"
     ]
    }
   ],
   "source": [
    "test_acc = []\n",
    "with tf.Session(graph=graph) as sess:\n",
    "    saver.restore(sess, tf.train.latest_checkpoint('checkpoints'))\n",
    "    test_state = sess.run(cell.zero_state(batch_size, tf.float32))\n",
    "    for ii, (x, y) in enumerate(get_batches(test_x, test_y, batch_size), 1):\n",
    "        feed = {inputs_: x,\n",
    "                labels_: y[:, None],\n",
    "                keep_prob: 1,\n",
    "                initial_state: test_state}\n",
    "        batch_acc, test_state = sess.run([accuracy, final_state], feed_dict=feed)\n",
    "        test_acc.append(batch_acc)\n",
    "    print(\"Test accuracy: {:.3f}\".format(np.mean(test_acc)))"
   ]
  },
  {
   "cell_type": "code",
   "execution_count": null,
   "metadata": {},
   "outputs": [],
   "source": []
  }
 ],
 "metadata": {
  "anaconda-cloud": {},
  "kernelspec": {
   "display_name": "Python 3",
   "language": "python",
   "name": "python3"
  },
  "language_info": {
   "codemirror_mode": {
    "name": "ipython",
    "version": 3
   },
   "file_extension": ".py",
   "mimetype": "text/x-python",
   "name": "python",
   "nbconvert_exporter": "python",
   "pygments_lexer": "ipython3",
   "version": "3.7.1"
  }
 },
 "nbformat": 4,
 "nbformat_minor": 2
}
